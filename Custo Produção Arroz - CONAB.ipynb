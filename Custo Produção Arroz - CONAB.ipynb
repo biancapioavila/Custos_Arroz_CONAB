{
 "cells": [
  {
   "cell_type": "markdown",
   "id": "aa8884ac",
   "metadata": {},
   "source": [
    "# Introdução\n"
   ]
  },
  {
   "cell_type": "markdown",
   "id": "0cdacb9d",
   "metadata": {},
   "source": [
    "A Conab realiza o acompanhamento constante da safra de grãos, monitorando as condições de desenvolvimento das principais culturas do país, abrangendo os seguintes produtos: \n",
    "    algodão, amendoim, arroz, aveia, canola, centeio, cevada, feijão, girassol, mamona, milho, soja, sorgo, trigo e triticale.\n",
    "\n",
    "A partir deste levantamento, a Companhia produz relatórios com diversos dados que envolvem custos de produção,\n",
    "custos variáveis, entre outros.\n",
    "\n",
    "O objetivo desse estudo é utilizar técnicas de machine learning para analisar os dados de custo de produção,\n",
    "para o produto arroz, ao longo dos anos de 2018-2021. A partir dessas análises, realizar predições para essa cultura, em vários Estados brasileiros."
   ]
  },
  {
   "cell_type": "markdown",
   "id": "1f24cd9b",
   "metadata": {},
   "source": [
    "## Dados"
   ]
  },
  {
   "cell_type": "markdown",
   "id": "483c99c8",
   "metadata": {},
   "source": [
    "Os dados foram obtidos a partir da plataforma online da Conab."
   ]
  },
  {
   "cell_type": "markdown",
   "id": "70e66603",
   "metadata": {},
   "source": [
    "## Etapas"
   ]
  },
  {
   "cell_type": "markdown",
   "id": "8308a857",
   "metadata": {},
   "source": [
    "* Obtenção dos Dados\n",
    "* Análise Exploratória e Visualização dos dados\n",
    "* Pré-processamento\n",
    "* Machine Learning - Análise por Série Temporal\n",
    "* Conclusões"
   ]
  },
  {
   "cell_type": "code",
   "execution_count": 1,
   "id": "9ea214cc",
   "metadata": {},
   "outputs": [],
   "source": [
    "import pandas as pd"
   ]
  },
  {
   "cell_type": "code",
   "execution_count": 2,
   "id": "7d96830d",
   "metadata": {},
   "outputs": [],
   "source": [
    "df = pd.read_csv ('CustoArroz.csv', sep = ';', encoding = 'ISO-8859-1')"
   ]
  },
  {
   "cell_type": "code",
   "execution_count": 3,
   "id": "374b3e2f",
   "metadata": {},
   "outputs": [
    {
     "data": {
      "text/html": [
       "<div>\n",
       "<style scoped>\n",
       "    .dataframe tbody tr th:only-of-type {\n",
       "        vertical-align: middle;\n",
       "    }\n",
       "\n",
       "    .dataframe tbody tr th {\n",
       "        vertical-align: top;\n",
       "    }\n",
       "\n",
       "    .dataframe thead th {\n",
       "        text-align: right;\n",
       "    }\n",
       "</style>\n",
       "<table border=\"1\" class=\"dataframe\">\n",
       "  <thead>\n",
       "    <tr style=\"text-align: right;\">\n",
       "      <th></th>\n",
       "      <th>empreendimento</th>\n",
       "      <th>Ano</th>\n",
       "      <th>produto</th>\n",
       "      <th>id_produto</th>\n",
       "      <th>safra</th>\n",
       "      <th>uf</th>\n",
       "      <th>municipio</th>\n",
       "      <th>cod_ibge</th>\n",
       "      <th>unidade_comercializacao</th>\n",
       "      <th>vlr_custo_variavel_ha</th>\n",
       "      <th>vlr_custo_variavel_unidade</th>\n",
       "      <th>vlr_custo_fixo_ha</th>\n",
       "      <th>vlr_custo_fixo_unidade</th>\n",
       "      <th>vlr_renda_fator_ha</th>\n",
       "      <th>vlr_renda_fator_unidade</th>\n",
       "    </tr>\n",
       "  </thead>\n",
       "  <tbody>\n",
       "    <tr>\n",
       "      <th>0</th>\n",
       "      <td>AGRICULTURA EMPRESARIAL</td>\n",
       "      <td>2018</td>\n",
       "      <td>ARROZ</td>\n",
       "      <td>4686</td>\n",
       "      <td>TODAS</td>\n",
       "      <td>MA</td>\n",
       "      <td>BALSAS-MA                                     ...</td>\n",
       "      <td>2101400</td>\n",
       "      <td>60 kg</td>\n",
       "      <td>1441.85</td>\n",
       "      <td>36.03</td>\n",
       "      <td>418.98</td>\n",
       "      <td>10.47</td>\n",
       "      <td>318.61</td>\n",
       "      <td>7.96</td>\n",
       "    </tr>\n",
       "    <tr>\n",
       "      <th>1</th>\n",
       "      <td>AGRICULTURA EMPRESARIAL</td>\n",
       "      <td>2018</td>\n",
       "      <td>ARROZ</td>\n",
       "      <td>4685</td>\n",
       "      <td>TODAS</td>\n",
       "      <td>MT</td>\n",
       "      <td>SORRISO-MT                                    ...</td>\n",
       "      <td>5107925</td>\n",
       "      <td>60 kg</td>\n",
       "      <td>2211.92</td>\n",
       "      <td>36.86</td>\n",
       "      <td>477.26</td>\n",
       "      <td>7.97</td>\n",
       "      <td>472.98</td>\n",
       "      <td>7.88</td>\n",
       "    </tr>\n",
       "    <tr>\n",
       "      <th>2</th>\n",
       "      <td>AGRICULTURA EMPRESARIAL</td>\n",
       "      <td>2018</td>\n",
       "      <td>ARROZ</td>\n",
       "      <td>4685</td>\n",
       "      <td>TODAS</td>\n",
       "      <td>RR</td>\n",
       "      <td>BOA VISTA-RR                                  ...</td>\n",
       "      <td>1400100</td>\n",
       "      <td>60 kg</td>\n",
       "      <td>4488.58</td>\n",
       "      <td>33.67</td>\n",
       "      <td>373.66</td>\n",
       "      <td>2.80</td>\n",
       "      <td>256.22</td>\n",
       "      <td>1.93</td>\n",
       "    </tr>\n",
       "    <tr>\n",
       "      <th>3</th>\n",
       "      <td>AGRICULTURA EMPRESARIAL</td>\n",
       "      <td>2018</td>\n",
       "      <td>ARROZ</td>\n",
       "      <td>11159</td>\n",
       "      <td>TODAS</td>\n",
       "      <td>RS</td>\n",
       "      <td>CACHOEIRA DO SUL-RS                           ...</td>\n",
       "      <td>4303004</td>\n",
       "      <td>50 kg</td>\n",
       "      <td>5289.25</td>\n",
       "      <td>36.78</td>\n",
       "      <td>674.95</td>\n",
       "      <td>4.70</td>\n",
       "      <td>794.72</td>\n",
       "      <td>5.52</td>\n",
       "    </tr>\n",
       "    <tr>\n",
       "      <th>4</th>\n",
       "      <td>AGRICULTURA EMPRESARIAL</td>\n",
       "      <td>2018</td>\n",
       "      <td>ARROZ</td>\n",
       "      <td>11159</td>\n",
       "      <td>TODAS</td>\n",
       "      <td>RS</td>\n",
       "      <td>PELOTAS-RS                                    ...</td>\n",
       "      <td>4314407</td>\n",
       "      <td>50 kg</td>\n",
       "      <td>5573.07</td>\n",
       "      <td>35.48</td>\n",
       "      <td>441.20</td>\n",
       "      <td>2.82</td>\n",
       "      <td>563.16</td>\n",
       "      <td>3.59</td>\n",
       "    </tr>\n",
       "    <tr>\n",
       "      <th>...</th>\n",
       "      <td>...</td>\n",
       "      <td>...</td>\n",
       "      <td>...</td>\n",
       "      <td>...</td>\n",
       "      <td>...</td>\n",
       "      <td>...</td>\n",
       "      <td>...</td>\n",
       "      <td>...</td>\n",
       "      <td>...</td>\n",
       "      <td>...</td>\n",
       "      <td>...</td>\n",
       "      <td>...</td>\n",
       "      <td>...</td>\n",
       "      <td>...</td>\n",
       "      <td>...</td>\n",
       "    </tr>\n",
       "    <tr>\n",
       "      <th>131</th>\n",
       "      <td>AGRICULTURA EMPRESARIAL</td>\n",
       "      <td>2021</td>\n",
       "      <td>ARROZ</td>\n",
       "      <td>4685</td>\n",
       "      <td>TODAS</td>\n",
       "      <td>MT</td>\n",
       "      <td>SORRISO-MT                                    ...</td>\n",
       "      <td>5107925</td>\n",
       "      <td>60 kg</td>\n",
       "      <td>5398.88</td>\n",
       "      <td>99.67</td>\n",
       "      <td>2047.19</td>\n",
       "      <td>37.79</td>\n",
       "      <td>891.18</td>\n",
       "      <td>16.45</td>\n",
       "    </tr>\n",
       "    <tr>\n",
       "      <th>132</th>\n",
       "      <td>AGRICULTURA EMPRESARIAL</td>\n",
       "      <td>2021</td>\n",
       "      <td>ARROZ</td>\n",
       "      <td>4685</td>\n",
       "      <td>TODAS</td>\n",
       "      <td>RR</td>\n",
       "      <td>BOA VISTA-RR                                  ...</td>\n",
       "      <td>1400100</td>\n",
       "      <td>60 kg</td>\n",
       "      <td>9322.35</td>\n",
       "      <td>69.92</td>\n",
       "      <td>890.45</td>\n",
       "      <td>6.68</td>\n",
       "      <td>223.98</td>\n",
       "      <td>1.68</td>\n",
       "    </tr>\n",
       "    <tr>\n",
       "      <th>133</th>\n",
       "      <td>AGRICULTURA EMPRESARIAL</td>\n",
       "      <td>2021</td>\n",
       "      <td>ARROZ</td>\n",
       "      <td>11159</td>\n",
       "      <td>TODAS</td>\n",
       "      <td>RS</td>\n",
       "      <td>PELOTAS-RS                                    ...</td>\n",
       "      <td>4314407</td>\n",
       "      <td>50 kg</td>\n",
       "      <td>10109.48</td>\n",
       "      <td>63.18</td>\n",
       "      <td>2674.91</td>\n",
       "      <td>16.72</td>\n",
       "      <td>196.35</td>\n",
       "      <td>1.23</td>\n",
       "    </tr>\n",
       "    <tr>\n",
       "      <th>134</th>\n",
       "      <td>AGRICULTURA EMPRESARIAL</td>\n",
       "      <td>2021</td>\n",
       "      <td>ARROZ</td>\n",
       "      <td>11159</td>\n",
       "      <td>TODAS</td>\n",
       "      <td>RS</td>\n",
       "      <td>SANTO ANTÔNIO DA PATRULHA-RS                  ...</td>\n",
       "      <td>4317608</td>\n",
       "      <td>50 kg</td>\n",
       "      <td>9341.11</td>\n",
       "      <td>62.27</td>\n",
       "      <td>2863.01</td>\n",
       "      <td>19.09</td>\n",
       "      <td>215.01</td>\n",
       "      <td>1.43</td>\n",
       "    </tr>\n",
       "    <tr>\n",
       "      <th>135</th>\n",
       "      <td>AGRICULTURA EMPRESARIAL</td>\n",
       "      <td>2021</td>\n",
       "      <td>ARROZ</td>\n",
       "      <td>11159</td>\n",
       "      <td>TODAS</td>\n",
       "      <td>RS</td>\n",
       "      <td>URUGUAIANA-RS                                 ...</td>\n",
       "      <td>4322400</td>\n",
       "      <td>50 kg</td>\n",
       "      <td>9503.13</td>\n",
       "      <td>59.39</td>\n",
       "      <td>2460.07</td>\n",
       "      <td>15.38</td>\n",
       "      <td>240.60</td>\n",
       "      <td>1.50</td>\n",
       "    </tr>\n",
       "  </tbody>\n",
       "</table>\n",
       "<p>136 rows × 15 columns</p>\n",
       "</div>"
      ],
      "text/plain": [
       "                               empreendimento   Ano  \\\n",
       "0    AGRICULTURA EMPRESARIAL                   2018   \n",
       "1    AGRICULTURA EMPRESARIAL                   2018   \n",
       "2    AGRICULTURA EMPRESARIAL                   2018   \n",
       "3    AGRICULTURA EMPRESARIAL                   2018   \n",
       "4    AGRICULTURA EMPRESARIAL                   2018   \n",
       "..                                        ...   ...   \n",
       "131  AGRICULTURA EMPRESARIAL                   2021   \n",
       "132  AGRICULTURA EMPRESARIAL                   2021   \n",
       "133  AGRICULTURA EMPRESARIAL                   2021   \n",
       "134  AGRICULTURA EMPRESARIAL                   2021   \n",
       "135  AGRICULTURA EMPRESARIAL                   2021   \n",
       "\n",
       "                                      produto  id_produto  \\\n",
       "0    ARROZ                                           4686   \n",
       "1    ARROZ                                           4685   \n",
       "2    ARROZ                                           4685   \n",
       "3    ARROZ                                          11159   \n",
       "4    ARROZ                                          11159   \n",
       "..                                        ...         ...   \n",
       "131  ARROZ                                           4685   \n",
       "132  ARROZ                                           4685   \n",
       "133  ARROZ                                          11159   \n",
       "134  ARROZ                                          11159   \n",
       "135  ARROZ                                          11159   \n",
       "\n",
       "                                        safra  uf  \\\n",
       "0    TODAS                                     MA   \n",
       "1    TODAS                                     MT   \n",
       "2    TODAS                                     RR   \n",
       "3    TODAS                                     RS   \n",
       "4    TODAS                                     RS   \n",
       "..                                        ...  ..   \n",
       "131  TODAS                                     MT   \n",
       "132  TODAS                                     RR   \n",
       "133  TODAS                                     RS   \n",
       "134  TODAS                                     RS   \n",
       "135  TODAS                                     RS   \n",
       "\n",
       "                                             municipio  cod_ibge  \\\n",
       "0    BALSAS-MA                                     ...   2101400   \n",
       "1    SORRISO-MT                                    ...   5107925   \n",
       "2    BOA VISTA-RR                                  ...   1400100   \n",
       "3    CACHOEIRA DO SUL-RS                           ...   4303004   \n",
       "4    PELOTAS-RS                                    ...   4314407   \n",
       "..                                                 ...       ...   \n",
       "131  SORRISO-MT                                    ...   5107925   \n",
       "132  BOA VISTA-RR                                  ...   1400100   \n",
       "133  PELOTAS-RS                                    ...   4314407   \n",
       "134  SANTO ANTÔNIO DA PATRULHA-RS                  ...   4317608   \n",
       "135  URUGUAIANA-RS                                 ...   4322400   \n",
       "\n",
       "    unidade_comercializacao  vlr_custo_variavel_ha  \\\n",
       "0                  60 kg                   1441.85   \n",
       "1                  60 kg                   2211.92   \n",
       "2                  60 kg                   4488.58   \n",
       "3                  50 kg                   5289.25   \n",
       "4                  50 kg                   5573.07   \n",
       "..                      ...                    ...   \n",
       "131                60 kg                   5398.88   \n",
       "132                60 kg                   9322.35   \n",
       "133                50 kg                  10109.48   \n",
       "134                50 kg                   9341.11   \n",
       "135                50 kg                   9503.13   \n",
       "\n",
       "     vlr_custo_variavel_unidade  vlr_custo_fixo_ha  vlr_custo_fixo_unidade  \\\n",
       "0                         36.03             418.98                   10.47   \n",
       "1                         36.86             477.26                    7.97   \n",
       "2                         33.67             373.66                    2.80   \n",
       "3                         36.78             674.95                    4.70   \n",
       "4                         35.48             441.20                    2.82   \n",
       "..                          ...                ...                     ...   \n",
       "131                       99.67            2047.19                   37.79   \n",
       "132                       69.92             890.45                    6.68   \n",
       "133                       63.18            2674.91                   16.72   \n",
       "134                       62.27            2863.01                   19.09   \n",
       "135                       59.39            2460.07                   15.38   \n",
       "\n",
       "     vlr_renda_fator_ha  vlr_renda_fator_unidade  \n",
       "0                318.61                     7.96  \n",
       "1                472.98                     7.88  \n",
       "2                256.22                     1.93  \n",
       "3                794.72                     5.52  \n",
       "4                563.16                     3.59  \n",
       "..                  ...                      ...  \n",
       "131              891.18                    16.45  \n",
       "132              223.98                     1.68  \n",
       "133              196.35                     1.23  \n",
       "134              215.01                     1.43  \n",
       "135              240.60                     1.50  \n",
       "\n",
       "[136 rows x 15 columns]"
      ]
     },
     "execution_count": 3,
     "metadata": {},
     "output_type": "execute_result"
    }
   ],
   "source": [
    "df"
   ]
  },
  {
   "cell_type": "code",
   "execution_count": 4,
   "id": "db4250ae",
   "metadata": {},
   "outputs": [],
   "source": [
    "df = df.drop(columns=['empreendimento','produto', 'id_produto','safra','municipio','cod_ibge','unidade_comercializacao'])"
   ]
  },
  {
   "cell_type": "code",
   "execution_count": 5,
   "id": "e7f5f9a0",
   "metadata": {},
   "outputs": [
    {
     "name": "stdout",
     "output_type": "stream",
     "text": [
      "<class 'pandas.core.frame.DataFrame'>\n",
      "RangeIndex: 136 entries, 0 to 135\n",
      "Data columns (total 8 columns):\n",
      " #   Column                      Non-Null Count  Dtype  \n",
      "---  ------                      --------------  -----  \n",
      " 0   Ano                         136 non-null    int64  \n",
      " 1   uf                          136 non-null    object \n",
      " 2   vlr_custo_variavel_ha       136 non-null    float64\n",
      " 3   vlr_custo_variavel_unidade  136 non-null    float64\n",
      " 4   vlr_custo_fixo_ha           136 non-null    float64\n",
      " 5   vlr_custo_fixo_unidade      136 non-null    float64\n",
      " 6   vlr_renda_fator_ha          136 non-null    float64\n",
      " 7   vlr_renda_fator_unidade     136 non-null    float64\n",
      "dtypes: float64(6), int64(1), object(1)\n",
      "memory usage: 8.6+ KB\n"
     ]
    }
   ],
   "source": [
    "df.info()"
   ]
  },
  {
   "cell_type": "code",
   "execution_count": 6,
   "id": "890f0ea0",
   "metadata": {},
   "outputs": [],
   "source": [
    "import seaborn as sns\n",
    "import matplotlib.pyplot as plt\n",
    "%matplotlib inline\n"
   ]
  },
  {
   "cell_type": "code",
   "execution_count": 7,
   "id": "e34ebfcf",
   "metadata": {},
   "outputs": [
    {
     "name": "stdout",
     "output_type": "stream",
     "text": [
      "2021    42\n",
      "2020    35\n",
      "2018    33\n",
      "2019    26\n",
      "Name: Ano, dtype: int64\n"
     ]
    },
    {
     "name": "stderr",
     "output_type": "stream",
     "text": [
      "C:\\Users\\Bianca\\anaconda3\\lib\\site-packages\\seaborn\\_decorators.py:36: FutureWarning: Pass the following variable as a keyword arg: x. From version 0.12, the only valid positional argument will be `data`, and passing other arguments without an explicit keyword will result in an error or misinterpretation.\n",
      "  warnings.warn(\n"
     ]
    },
    {
     "data": {
      "image/png": "[encoded data removed]",
      "text/plain": [
       "<Figure size 1584x720 with 1 Axes>"
      ]
     },
     "metadata": {
      "needs_background": "light"
     },
     "output_type": "display_data"
    }
   ],
   "source": [
    "# Maiores verificações no ano de 2021\n",
    "\n",
    "print(df['Ano'].value_counts())\n",
    "plt.figure(figsize=(22,10))\n",
    "sns.countplot(df['Ano'])\n",
    "plt.show()"
   ]
  },
  {
   "cell_type": "code",
   "execution_count": 8,
   "id": "7322b180",
   "metadata": {},
   "outputs": [
    {
     "data": {
      "image/png": "[encoded data removed]",
      "text/plain": [
       "<Figure size 864x720 with 9 Axes>"
      ]
     },
     "metadata": {
      "needs_background": "light"
     },
     "output_type": "display_data"
    }
   ],
   "source": [
    "df.hist (figsize = (12, 10));"
   ]
  },
  {
   "cell_type": "code",
   "execution_count": 9,
   "id": "ff51af18",
   "metadata": {},
   "outputs": [
    {
     "data": {
      "text/html": [
       "<div>\n",
       "<style scoped>\n",
       "    .dataframe tbody tr th:only-of-type {\n",
       "        vertical-align: middle;\n",
       "    }\n",
       "\n",
       "    .dataframe tbody tr th {\n",
       "        vertical-align: top;\n",
       "    }\n",
       "\n",
       "    .dataframe thead th {\n",
       "        text-align: right;\n",
       "    }\n",
       "</style>\n",
       "<table border=\"1\" class=\"dataframe\">\n",
       "  <thead>\n",
       "    <tr style=\"text-align: right;\">\n",
       "      <th></th>\n",
       "      <th>Ano</th>\n",
       "      <th>vlr_custo_variavel_ha</th>\n",
       "    </tr>\n",
       "  </thead>\n",
       "  <tbody>\n",
       "    <tr>\n",
       "      <th>0</th>\n",
       "      <td>2018</td>\n",
       "      <td>154271.89</td>\n",
       "    </tr>\n",
       "    <tr>\n",
       "      <th>1</th>\n",
       "      <td>2019</td>\n",
       "      <td>118034.45</td>\n",
       "    </tr>\n",
       "    <tr>\n",
       "      <th>2</th>\n",
       "      <td>2020</td>\n",
       "      <td>157937.15</td>\n",
       "    </tr>\n",
       "    <tr>\n",
       "      <th>3</th>\n",
       "      <td>2021</td>\n",
       "      <td>260483.63</td>\n",
       "    </tr>\n",
       "  </tbody>\n",
       "</table>\n",
       "</div>"
      ],
      "text/plain": [
       "    Ano  vlr_custo_variavel_ha\n",
       "0  2018              154271.89\n",
       "1  2019              118034.45\n",
       "2  2020              157937.15\n",
       "3  2021              260483.63"
      ]
     },
     "execution_count": 9,
     "metadata": {},
     "output_type": "execute_result"
    }
   ],
   "source": [
    "df_plot = df.groupby ('Ano'). vlr_custo_variavel_ha.sum(). reset_index () \n",
    "df_plot"
   ]
  },
  {
   "cell_type": "code",
   "execution_count": 10,
   "id": "57627dde",
   "metadata": {},
   "outputs": [
    {
     "data": {
      "text/html": [
       "<div>\n",
       "<style scoped>\n",
       "    .dataframe tbody tr th:only-of-type {\n",
       "        vertical-align: middle;\n",
       "    }\n",
       "\n",
       "    .dataframe tbody tr th {\n",
       "        vertical-align: top;\n",
       "    }\n",
       "\n",
       "    .dataframe thead th {\n",
       "        text-align: right;\n",
       "    }\n",
       "</style>\n",
       "<table border=\"1\" class=\"dataframe\">\n",
       "  <thead>\n",
       "    <tr style=\"text-align: right;\">\n",
       "      <th></th>\n",
       "      <th>uf</th>\n",
       "      <th>vlr_custo_variavel_ha</th>\n",
       "    </tr>\n",
       "  </thead>\n",
       "  <tbody>\n",
       "    <tr>\n",
       "      <th>0</th>\n",
       "      <td>MA</td>\n",
       "      <td>35466.75</td>\n",
       "    </tr>\n",
       "    <tr>\n",
       "      <th>1</th>\n",
       "      <td>MS</td>\n",
       "      <td>78019.40</td>\n",
       "    </tr>\n",
       "    <tr>\n",
       "      <th>2</th>\n",
       "      <td>MT</td>\n",
       "      <td>62790.35</td>\n",
       "    </tr>\n",
       "    <tr>\n",
       "      <th>3</th>\n",
       "      <td>RR</td>\n",
       "      <td>92212.77</td>\n",
       "    </tr>\n",
       "    <tr>\n",
       "      <th>4</th>\n",
       "      <td>RS</td>\n",
       "      <td>422237.85</td>\n",
       "    </tr>\n",
       "  </tbody>\n",
       "</table>\n",
       "</div>"
      ],
      "text/plain": [
       "   uf  vlr_custo_variavel_ha\n",
       "0  MA               35466.75\n",
       "1  MS               78019.40\n",
       "2  MT               62790.35\n",
       "3  RR               92212.77\n",
       "4  RS              422237.85"
      ]
     },
     "execution_count": 10,
     "metadata": {},
     "output_type": "execute_result"
    }
   ],
   "source": [
    "df_plot = df.groupby ('uf'). vlr_custo_variavel_ha.sum(). reset_index () \n",
    "df_plot"
   ]
  },
  {
   "cell_type": "code",
   "execution_count": 11,
   "id": "53368f2d",
   "metadata": {},
   "outputs": [],
   "source": [
    "myred='#CD5C5C'\n",
    "myblue='#6495ED'\n",
    "mygreen='#90EE90'\n",
    "cols= [myred, myblue,mygreen]"
   ]
  },
  {
   "cell_type": "code",
   "execution_count": 12,
   "id": "78964b56",
   "metadata": {},
   "outputs": [
    {
     "data": {
      "image/png": "[encoded data removed]",
      "text/plain": [
       "<Figure size 432x288 with 1 Axes>"
      ]
     },
     "metadata": {
      "needs_background": "light"
     },
     "output_type": "display_data"
    }
   ],
   "source": [
    "x =df_plot['uf']\n",
    "y=df_plot['vlr_custo_variavel_ha']\n",
    "plt.bar(x,y,color=cols);\n",
    "plt.title('Valor do custo variável por Estado');\n",
    "plt.xlabel('uf');\n",
    "plt.ylabel('vlr_custo_variavel_ha');"
   ]
  },
  {
   "cell_type": "code",
   "execution_count": 13,
   "id": "3b1baa70",
   "metadata": {},
   "outputs": [
    {
     "data": {
      "image/png": "[encoded data removed]",
      "text/plain": [
       "<Figure size 432x288 with 1 Axes>"
      ]
     },
     "metadata": {
      "needs_background": "light"
     },
     "output_type": "display_data"
    }
   ],
   "source": [
    "df_plot = df.groupby ('Ano'). vlr_custo_fixo_ha.sum (). reset_index () \n",
    "\n",
    "x =df_plot['Ano']\n",
    "y=df_plot['vlr_custo_fixo_ha']\n",
    "plt.bar(x,y);\n",
    "plt.title('Valor do custo fixo em relação ao Ano de produção');\n",
    "plt.xlabel('Ano');\n",
    "plt.ylabel('vlr_custo_fixo_ha');\n",
    "plt.xticks(x, (2018,2019,2020,2021));"
   ]
  },
  {
   "cell_type": "code",
   "execution_count": null,
   "id": "057e7de9",
   "metadata": {},
   "outputs": [],
   "source": []
  },
  {
   "cell_type": "code",
   "execution_count": null,
   "id": "0a57ef26",
   "metadata": {},
   "outputs": [],
   "source": []
  }
 ],
 "metadata": {
  "kernelspec": {
   "display_name": "Python 3 (ipykernel)",
   "language": "python",
   "name": "python3"
  },
  "language_info": {
   "codemirror_mode": {
    "name": "ipython",
    "version": 3
   },
   "file_extension": ".py",
   "mimetype": "text/x-python",
   "name": "python",
   "nbconvert_exporter": "python",
   "pygments_lexer": "ipython3",
   "version": "3.9.12"
  }
 },
 "nbformat": 4,
 "nbformat_minor": 5
}
